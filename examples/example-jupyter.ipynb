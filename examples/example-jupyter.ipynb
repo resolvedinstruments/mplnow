{
 "cells": [
  {
   "cell_type": "code",
   "execution_count": null,
   "id": "a50613e9",
   "metadata": {
    "lines_to_next_cell": 0
   },
   "outputs": [],
   "source": [
    "import time\n",
    "import asyncio\n",
    "\n",
    "import numpy as np\n",
    "import matplotlib\n",
    "import matplotlib.pyplot as plt\n",
    "from mplnow import FigDrawing\n",
    "\n",
    "matplotlib.use(\"module://ipympl.backend_nbagg\")"
   ]
  },
  {
   "cell_type": "code",
   "execution_count": null,
   "id": "8a755c44",
   "metadata": {},
   "outputs": [],
   "source": [
    "fig = FigDrawing()"
   ]
  },
  {
   "cell_type": "code",
   "execution_count": null,
   "id": "62e6adac",
   "metadata": {
    "lines_to_next_cell": 2
   },
   "outputs": [],
   "source": [
    "def draw_plot(fig: FigDrawing, t: float):\n",
    "    fig.begin()\n",
    "\n",
    "    fig.set_layout_engine(\"constrained\")\n",
    "    axs = fig.subplots(2, 1, sharex=True)\n",
    "\n",
    "    x = np.linspace(0, 5, 400)\n",
    "    y = np.sin((x - 0.5 * t) * 3 * np.pi)\n",
    "    y2 = np.cos((x + 0.1 * t) * 3 * np.pi)\n",
    "\n",
    "    axs[0].curve(x, y, ls=\"-\", color=\"C1\")\n",
    "    axs[0].axhline(1, ls=\"--\", color=\"k\")\n",
    "    axs[0].axhline(-1, ls=\"--\", color=\"k\")\n",
    "\n",
    "    axs[1].curve(x, y2, ls=\"-\", color=\"C2\")\n",
    "    axs[1].axhline(0, ls=\"--\", color=\"k\")\n",
    "    axs[1].set_xlabel(\"Time (s)\")\n",
    "    axs[1].set_xlim(x[0], 5)\n",
    "\n",
    "    fig.end()\n",
    "\n",
    "\n",
    "draw_plot(fig, time.time())"
   ]
  },
  {
   "cell_type": "code",
   "execution_count": null,
   "id": "787c3703",
   "metadata": {
    "lines_to_next_cell": 0
   },
   "outputs": [],
   "source": [
    "async def async_draw_task():\n",
    "    while True:\n",
    "        draw_plot(fig, time.time())\n",
    "        await asyncio.sleep(0.1)\n",
    "\n",
    "\n",
    "task = asyncio.get_event_loop().create_task(async_draw_task())"
   ]
  },
  {
   "cell_type": "code",
   "execution_count": null,
   "id": "36f679d1",
   "metadata": {},
   "outputs": [],
   "source": [
    "# If running in a notebook, we can stop the background draw task\n",
    "task.cancel()\n",
    "# await the task to propagate any errors which occured\n",
    "# await task"
   ]
  }
 ],
 "metadata": {
  "jupytext": {
   "cell_metadata_filter": "-all",
   "main_language": "python",
   "notebook_metadata_filter": "-all"
  }
 },
 "nbformat": 4,
 "nbformat_minor": 5
}
